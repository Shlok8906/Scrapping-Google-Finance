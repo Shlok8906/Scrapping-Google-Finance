{
 "cells": [
  {
   "cell_type": "code",
   "execution_count": 39,
   "id": "0e609050",
   "metadata": {},
   "outputs": [],
   "source": [
    "import pandas as pd\n",
    "import requests\n",
    "from bs4 import BeautifulSoup\n"
   ]
  },
  {
   "cell_type": "code",
   "execution_count": 14,
   "id": "a90dc150",
   "metadata": {},
   "outputs": [],
   "source": [
    "headers = {\"User-Agent\": \"Mozilla/5.0\"}\n",
    "url=\"https://www.google.com/finance/\"\n",
    "res=requests.get(url,headers=headers)"
   ]
  },
  {
   "cell_type": "code",
   "execution_count": null,
   "id": "8eba21ad",
   "metadata": {},
   "outputs": [
    {
     "name": "stdout",
     "output_type": "stream",
     "text": [
      "BSEBSE Ltd\n",
      "M&MMahindra And Mahindra Ltd\n",
      "RELIANCEReliance Industries Ltd\n",
      "YESBANKYes Bank Ltd\n",
      "IndexBSE SENSEX\n",
      "IndexNIFTY 50\n"
     ]
    }
   ],
   "source": [
    "soup = BeautifulSoup(res.text, \"html.parser\")\n",
    "elements = soup.select(\"div.iLEcy\")\n",
    "for el in elements:\n",
    "    print(el.get_text(strip=True))"
   ]
  },
  {
   "cell_type": "code",
   "execution_count": 33,
   "id": "18cfc1fe",
   "metadata": {},
   "outputs": [
    {
     "name": "stdout",
     "output_type": "stream",
     "text": [
      "₹2,389.10\n",
      "₹3,141.80\n",
      "₹1,366.20\n",
      "₹18.53\n",
      "79,857.79\n",
      "24,363.30\n"
     ]
    }
   ],
   "source": [
    "price=soup.select(\"div.xVyTdb.ytSBif \")\n",
    "for prices in price:\n",
    "    print(prices.get_text(strip=True)) "
   ]
  },
  {
   "cell_type": "code",
   "execution_count": 35,
   "id": "a303de04",
   "metadata": {},
   "outputs": [
    {
     "name": "stdout",
     "output_type": "stream",
     "text": [
      "-₹53.10\n",
      "-₹69.30\n",
      "-₹23.20\n",
      "-₹0.24\n",
      "-765.47\n",
      "-232.85\n"
     ]
    }
   ],
   "source": [
    "updown=soup.select(\"div.xVyTdb.ghTit \")\n",
    "for updowns in updown:\n",
    "    print(updowns.get_text(strip=True))"
   ]
  },
  {
   "cell_type": "code",
   "execution_count": 38,
   "id": "01436939",
   "metadata": {},
   "outputs": [
    {
     "name": "stdout",
     "output_type": "stream",
     "text": [
      "2.17%\n",
      "2.16%\n",
      "1.67%\n",
      "1.28%\n",
      "0.95%\n",
      "0.95%\n"
     ]
    }
   ],
   "source": [
    "inpercent=soup.select(\"div.xVyTdb.NN5r3b\")\n",
    "for inpercents in inpercent:\n",
    "    print(inpercents.get_text(strip=True))"
   ]
  },
  {
   "cell_type": "code",
   "execution_count": null,
   "id": "6678f522",
   "metadata": {},
   "outputs": [
    {
     "ename": "KeyError",
     "evalue": "slice(None, 0, None)",
     "output_type": "error",
     "traceback": [
      "\u001b[1;31m---------------------------------------------------------------------------\u001b[0m",
      "\u001b[1;31mKeyError\u001b[0m                                  Traceback (most recent call last)",
      "Cell \u001b[1;32mIn[68], line 4\u001b[0m\n\u001b[0;32m      1\u001b[0m min_len \u001b[38;5;241m=\u001b[39m \u001b[38;5;28mmin\u001b[39m(\u001b[38;5;28mlen\u001b[39m(names), \u001b[38;5;28mlen\u001b[39m(prices), \u001b[38;5;28mlen\u001b[39m(updowns), \u001b[38;5;28mlen\u001b[39m(inpercents))\n\u001b[0;32m      3\u001b[0m final \u001b[38;5;241m=\u001b[39m {\n\u001b[1;32m----> 4\u001b[0m     \u001b[38;5;124m\"\u001b[39m\u001b[38;5;124mName\u001b[39m\u001b[38;5;124m\"\u001b[39m: \u001b[43mnames\u001b[49m\u001b[43m[\u001b[49m\u001b[43m:\u001b[49m\u001b[43mmin_len\u001b[49m\u001b[43m]\u001b[49m,\n\u001b[0;32m      5\u001b[0m     \u001b[38;5;124m\"\u001b[39m\u001b[38;5;124mPrice\u001b[39m\u001b[38;5;124m\"\u001b[39m: prices[:min_len],\n\u001b[0;32m      6\u001b[0m     \u001b[38;5;124m\"\u001b[39m\u001b[38;5;124mUp/Down\u001b[39m\u001b[38;5;124m\"\u001b[39m: updowns[:min_len],\n\u001b[0;32m      7\u001b[0m     \u001b[38;5;124m\"\u001b[39m\u001b[38;5;124mChange\u001b[39m\u001b[38;5;124m\"\u001b[39m: inpercents[:min_len]\n\u001b[0;32m      8\u001b[0m }\n\u001b[0;32m     10\u001b[0m df \u001b[38;5;241m=\u001b[39m pd\u001b[38;5;241m.\u001b[39mDataFrame(final)\n\u001b[0;32m     11\u001b[0m \u001b[38;5;28mprint\u001b[39m(df)\n",
      "File \u001b[1;32m~\\AppData\\Roaming\\Python\\Python312\\site-packages\\bs4\\element.py:1573\u001b[0m, in \u001b[0;36mTag.__getitem__\u001b[1;34m(self, key)\u001b[0m\n\u001b[0;32m   1570\u001b[0m \u001b[38;5;28;01mdef\u001b[39;00m \u001b[38;5;21m__getitem__\u001b[39m(\u001b[38;5;28mself\u001b[39m, key):\n\u001b[0;32m   1571\u001b[0m \u001b[38;5;250m    \u001b[39m\u001b[38;5;124;03m\"\"\"tag[key] returns the value of the 'key' attribute for the Tag,\u001b[39;00m\n\u001b[0;32m   1572\u001b[0m \u001b[38;5;124;03m    and throws an exception if it's not there.\"\"\"\u001b[39;00m\n\u001b[1;32m-> 1573\u001b[0m     \u001b[38;5;28;01mreturn\u001b[39;00m \u001b[38;5;28;43mself\u001b[39;49m\u001b[38;5;241;43m.\u001b[39;49m\u001b[43mattrs\u001b[49m\u001b[43m[\u001b[49m\u001b[43mkey\u001b[49m\u001b[43m]\u001b[49m\n",
      "\u001b[1;31mKeyError\u001b[0m: slice(None, 0, None)"
     ]
    }
   ],
   "source": [
    "min_len = min(len(el), len(prices), len(updowns), len(inpercents))\n",
    "\n",
    "final = {\n",
    "    \"Name\": el[:min_len],\n",
    "    \"Price\": prices[:min_len],\n",
    "    \"Up/Down\": updowns[:min_len],\n",
    "    \"Change\": inpercents[:min_len]\n",
    "}\n",
    "\n",
    "df = pd.DataFrame(final)\n",
    "print(df)\n",
    "df.to_csv(\"Final.csv\", index=False)  # index=False avoids the extra index column\n"
   ]
  },
  {
   "cell_type": "code",
   "execution_count": 59,
   "id": "54ffaacb",
   "metadata": {},
   "outputs": [
    {
     "name": "stdout",
     "output_type": "stream",
     "text": [
      "IndexBSE SENSEX79,857.790.95%add_circle_outline\n",
      "IndexNIFTY 5024,363.300.95%add_circle_outline\n",
      "IndexDow Jones Industrial Average44,175.610.47%add_circle_outline\n",
      "BSEBSE Ltd₹2,389.102.17%add_circle_outline\n",
      "IndexS&P 5006,389.450.78%add_circle_outline\n",
      "RELIANCEReliance Industries Ltd₹1,366.201.67%add_circle_outline\n",
      "SBINState Bank of India₹802.500.33%add_circle_outline\n",
      "ITCITC Ltd₹414.450.21%add_circle_outline\n",
      "M&MMahindra And Mahindra Ltd₹3,141.802.16%add_circle_outline\n",
      "YESBANKYes Bank Ltd₹18.531.28%add_circle_outline\n",
      "IndexNIFTY 50022,443.151.11%add_circle_outline\n",
      "IndexVIX15.158.57%add_circle_outline\n",
      "IDEAVodafone Idea Ltd₹6.562.38%add_circle_outline\n",
      "BAJFINANCEBajaj Finance Ltd₹878.000.13%add_circle_outline\n",
      "OFSOFS Capital Corp$8.310.48%add_circle_outline\n",
      "HDFCBANKHDFC Bank Ltd₹1,972.001.17%add_circle_outline\n",
      "CNCCentene Corp$25.591.31%add_circle_outline\n",
      "IndexNIFTY Next 5065,514.701.24%add_circle_outline\n"
     ]
    }
   ],
   "source": [
    "name=soup.select(\"div.PieIgb\")\n",
    "for names in name:\n",
    "    print(names.get_text(strip=True))"
   ]
  }
 ],
 "metadata": {
  "kernelspec": {
   "display_name": "base",
   "language": "python",
   "name": "python3"
  },
  "language_info": {
   "codemirror_mode": {
    "name": "ipython",
    "version": 3
   },
   "file_extension": ".py",
   "mimetype": "text/x-python",
   "name": "python",
   "nbconvert_exporter": "python",
   "pygments_lexer": "ipython3",
   "version": "3.12.7"
  }
 },
 "nbformat": 4,
 "nbformat_minor": 5
}
